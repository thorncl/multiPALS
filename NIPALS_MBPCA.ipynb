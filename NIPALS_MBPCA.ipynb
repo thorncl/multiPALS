{
  "cells": [
    {
      "cell_type": "code",
      "execution_count": 2,
      "metadata": {
        "colab": {
          "base_uri": "https://localhost:8080/"
        },
        "id": "jN8CuPdbGcw2",
        "outputId": "33e21526-01e8-4660-cd9d-50497dea35d5"
      },
      "outputs": [],
      "source": [
        "import numpy as np\n",
        "import pandas as pd\n",
        "import os\n",
        "import matplotlib.pyplot as plt\n",
        "from scipy import signal\n",
        "from scipy.signal import windows\n",
        "import scipy.io\n",
        "from glob import glob\n",
        "import dask.dataframe as dd\n",
        "import dask.array as da\n",
        "from dask import delayed\n",
        "from distutils.dir_util import copy_tree\n",
        "import shutil"
      ]
    },
    {
      "cell_type": "code",
      "execution_count": 3,
      "metadata": {
        "id": "ej0Ap-CiO3xQ"
      },
      "outputs": [],
      "source": [
        "@delayed\n",
        "def dot_p_b(x,y,n_rows,n_features,no_norm):\n",
        "    #x -> t_T\n",
        "    #y -> X_b\n",
        "\n",
        "    if y.shape!=(n_rows,n_features):\n",
        "        y = y.transpose()\n",
        "    pp_1 = (x.transpose().dot(y)) #1,8193\n",
        "    pp_2 = (x.transpose().dot(x))\n",
        "    pp_3 = pp_1/pp_2\n",
        "    if no_norm == False:\n",
        "        pp_4 = (pp_3)/np.linalg.norm(pp_3)\n",
        "\n",
        "        return pp_4\n",
        "\n",
        "    else:\n",
        "\n",
        "        return pp_3\n",
        "\n",
        "\n",
        "@delayed\n",
        "def dot_t_b(x,y,n_rows,n_features):\n",
        "    #x -> p_b\n",
        "    #y -> X_b\n",
        "    #print(x)\n",
        "    #print(y)\n",
        "    x = x.reshape(-1,1)\n",
        "\n",
        "    if y.shape!=(n_features,n_rows):\n",
        "        y = y.transpose()\n",
        "    pp_1 = (x.transpose().dot(y))\n",
        "    pp_2 = pp_1/np.sqrt(n_features)\n",
        "    #print(pp_2.shape)\n",
        "    if pp_2.shape!=(n_rows,1):\n",
        "        pp_2 = pp_2.transpose()\n",
        "\n",
        "    return pp_2\n",
        "\n",
        "@delayed\n",
        "def compute_var_explained(x,y):\n",
        "    #x -> residuals\n",
        "    #y -> blocks\n",
        "\n",
        "    var_exp = abs(1 - ((np.trace(x.transpose().dot(x))/(np.trace(y.transpose().dot(y))))))*100\n",
        "    return var_exp, \n",
        "\n",
        "def read_hdfs(root,read_keys) -> dd:\n",
        "\n",
        "    file_path = \"../Bridge_Data/scaled_201901_*.h5\"\n",
        "    files = glob(file_path)\n",
        "    print(files)\n",
        "\n",
        "    padded_files = sorted(files, key = lambda x: (int(x.split('_')[-7]), int(x.split('_')[-5]), int(x.split('_')[-3])))\n",
        "    df = dd.read_hdf(padded_files,key='data',lock=True,sorted_index=True)\n",
        "    return df, padded_files\n"
      ]
    },
    {
      "cell_type": "code",
      "execution_count": 4,
      "metadata": {
        "id": "uiZCbJetGvKU"
      },
      "outputs": [],
      "source": [
        "class nipals_methods:\n",
        "    def __init__(self,root):\n",
        "        self.root = root\n",
        "        self.t_T = pd.read_hdf(self.root+'scaled_201901_day_1_sensor_1_parallel_padded.h5',key='data').transpose()\n",
        "        #print(self.t_T.shape)\n",
        "        self.n_features = self.t_T.shape[1]\n",
        "        self.n_rows = self.t_T.shape[0]\n",
        "        self.t_T = np.asarray([-0.4109466, -0.40807255, 2.04122889, -0.40160283, -0.40939843, -0.41120847]).reshape(-1,1)#([-0.40824829, -0.16738194, -0.82674259,  0.06009628, -0.19901919,-0.28034463]).reshape(-1,1)\n",
        "        #self.folders = glob(self.root+'/sensor_data_*')\n",
        "        #self.folders.sort()\n",
        "\n",
        "    def pad_missing_values(self,read_keys):\n",
        "        self.block_files = []\n",
        "        for folder in self.folders:\n",
        "            key = folder.split('_',folder.count('_'))[-1]\n",
        "            if key in read_keys:\n",
        "                self.block_files.extend(glob.glob(self.root+'/sensor_data_'+key+'/scaled_*_parallel.h5'))\n",
        "        for file in self.block_files:\n",
        "            df = pd.read_hdf(file,key='data',mode='r')\n",
        "            if df.shape[1] != self.n_rows:\n",
        "                cols = df.shape[1]\n",
        "                for i in range(cols,self.n_rows):\n",
        "                    df.loc[:,i] = 0\n",
        "            df.to_hdf(file.replace('.h5','_padded.h5'),key='data',format='table')\n",
        "\n",
        "    def compute_block_loadings(self,no_norm=False):\n",
        "        p_b = []\n",
        "        df_map = dd.map_partitions(dot_p_b,self.t_T,self.df,self.n_rows,self.n_features,no_norm)\n",
        "        delayed_fncs = df_map.compute()\n",
        "        print(np.linalg.norm(delayed_fncs[1].compute()))\n",
        "        for i in range(len(delayed_fncs)):\n",
        "          p_b.append(delayed_fncs[i].compute())\n",
        "\n",
        "        self.p_b = p_b\n",
        "\n",
        "    def compute_block_scores(self):\n",
        "        self.t_b = []\n",
        "        for i in range(len(self.p_b[0])):\n",
        "          df_map = dd.map_partitions(dot_t_b,self.p_b[i][0],self.df,self.n_rows,self.n_features,align_dataframes=True)\n",
        "          delayed_fncs = df_map.compute()\n",
        "          #print(delayed_fncs[1].compute())\n",
        "          for j in range(len(delayed_fncs)):\n",
        "            self.t_b.append(delayed_fncs[j].compute())\n",
        "        #print(self.t_b.shape)\n",
        "        self.T = np.reshape(self.t_b,(self.n_rows,len(self.t_b)))\n",
        "        print(\"T shape\")\n",
        "        print(self.T.shape)\n",
        "\n",
        "    def compute_super_weight(self):\n",
        "        pp_1 = self.T.transpose().dot(self.t_T)\n",
        "        pp_2 = (self.t_T.transpose().dot(self.t_T))\n",
        "        pp_3 = pp_1/pp_2\n",
        "        self.w_T = pp_3/np.linalg.norm(pp_3)\n",
        "\n",
        "    def update_super_score(self):\n",
        "        self.t_T_new = self.T.dot(self.w_T)\n",
        "        t_T = self.t_T_new\n",
        "        return t_T\n",
        "\n",
        "    def deflate(self):\n",
        "        E = []\n",
        "        start = 0\n",
        "        chunk = self.n_features\n",
        "        self.compute_block_loadings(no_norm=True)\n",
        "        self.p_b = np.reshape(self.p_b,(self.n_partitions,self.n_features))\n",
        "        df = self.df.compute()\n",
        "        for i in range(self.p_b.shape[0]):\n",
        "            p_b = self.p_b[i].reshape(-1,1)\n",
        "            pp_1 = self.t_T.dot(p_b.transpose())\n",
        "            E.append(df[start:start+chunk].transpose() - pp_1)\n",
        "            start += self.n_features\n",
        "        E = np.reshape(E,(self.n_partitions,self.n_features,self.n_rows))\n",
        "        E = np.vstack(E)\n",
        "        df = pd.DataFrame(E,columns=pd.Index([0,1,2,3,4,5],dtype='int64'))\n",
        "        df = dd.from_pandas(df,npartitions=self.n_partitions)\n",
        "        self.df = df\n",
        "        return df\n",
        "\n",
        "    def fit(self,X,tolerance,max_iter,n_components,read_ckp=None,write_ckp=None):\n",
        "        X = X.reset_index(drop=True)\n",
        "\n",
        "        self.df = X\n",
        "\n",
        "        self.n_partitions = self.df.npartitions\n",
        "\n",
        "        model = {'t_T_scores':np.empty((0,self.n_rows)),'p_b':np.empty((0,self.n_partitions,self.n_features)),'t_b':np.empty((0,self.n_partitions,self.n_rows)),'w_T':np.empty((0,self.n_partitions)),'residuals':np.empty((0,self.n_features,self.n_rows)),'cum_var_exp':np.empty((0,self.n_partitions))}\n",
        "        ckp_components = 0\n",
        "        total_components = n_components\n",
        "\n",
        "        if not (read_ckp == None):\n",
        "\n",
        "            model['cum_var_exp'] = pd.read_hdf(glob.glob(self.root+'/cum_var_exp_ckp.h5')[0],key='data').values\n",
        "            ckp_components = model['cum_var_exp'].shape[0]\n",
        "            ckp_components = int(ckp_components)\n",
        "            total_components = n_components + ckp_components\n",
        "            total_components = int(total_components)\n",
        "\n",
        "            if ckp_components+n_components > self.n_features:\n",
        "                print('Error: Fitting too many components.')\n",
        "                return\n",
        "\n",
        "            model['t_T_scores'] = pd.read_hdf(glob.glob(self.root+'/t_T_score_ckp.h5')[0],key='data').values\n",
        "\n",
        "            model['p_b'] = pd.read_hdf(glob.glob(self.root+'/p_b_stack_ckp.h5')[0],key='data').values\n",
        "            model['p_b'] = model['p_b'].reshape(ckp_components,self.n_partitions,self.n_features)\n",
        "\n",
        "            model['t_b'] = pd.read_hdf(glob.glob(self.root+'/t_b_stack_ckp.h5')[0],key='data').values\n",
        "            model['t_b'] = model['t_b'].reshape(ckp_components,self.n_partitions,self.n_rows)\n",
        "\n",
        "            model['w_T'] = pd.read_hdf(glob.glob(self.root+'/w_T_ckp.h5')[0],key='data').values\n",
        "\n",
        "            residuals = pd.read_hdf(glob.glob(self.root+'/residuals_stack_ckp.h5')[0],key='data')\n",
        "            residuals = residuals.reset_index(drop=True)\n",
        "            model['residuals'] = dd.from_pandas(residuals,self.n_partitions)\n",
        "            model['residuals'] = model['residuals'].reset_index(drop=True)\n",
        "\n",
        "            self.t_T = np.array(model['t_T_scores'][-1]).reshape(-1,1)\n",
        "\n",
        "            self.df = model['residuals']\n",
        "\n",
        "            if n_components == 0: return model\n",
        "\n",
        "\n",
        "        for i in range(ckp_components,total_components):\n",
        "\n",
        "            print('Fitting component ',i+1)\n",
        "            #print(self.t_T)\n",
        "\n",
        "            for j in range(max_iter):\n",
        "\n",
        "                print('Current Iteration: ',j)\n",
        "                self.compute_block_loadings()\n",
        "                self.compute_block_scores()\n",
        "                self.compute_super_weight()\n",
        "                #print(\"super\")\n",
        "                #print(self.T)\n",
        "                t_T = self.update_super_score()\n",
        "                eps = abs(t_T - self.t_T)\n",
        "                if np.all(eps<tolerance):\n",
        "\n",
        "                    print('Component converged early. Iteration: ',j)\n",
        "                    self.t_T = t_T\n",
        "                    break\n",
        "\n",
        "                self.t_T = t_T\n",
        "\n",
        "            self.p_b = np.reshape(self.p_b,(1,self.n_partitions,self.n_features))\n",
        "            model['p_b'] = np.concatenate((model['p_b'],self.p_b),axis=0)\n",
        "            model['t_T_scores'] = np.append(model['t_T_scores'],self.t_T.transpose(),axis=0)\n",
        "            model['t_b'] = np.append(model['t_b'],np.reshape(self.t_b,(1,self.n_partitions,self.n_rows)),axis=0)\n",
        "            model['w_T'] = np.append(model['w_T'],self.w_T.transpose(),axis=0)\n",
        "\n",
        "            self.residuals = self.deflate()\n",
        "            self.residuals = self.residuals.reset_index(drop=True)\n",
        "\n",
        "            test = np.trace(X)\n",
        "\n",
        "            df_map = dd.map_partitions(compute_var_explained,self.residuals,X)\n",
        "            delayed_fncs = df_map.compute()\n",
        "            delayed_vals = []\n",
        "\n",
        "            for func in range(len(delayed_fncs)):\n",
        "\n",
        "                delayed_vals.append(delayed_fncs[func].compute())\n",
        "\n",
        "            delayed_vals = np.reshape(delayed_vals,(1,self.n_partitions))\n",
        "            model['cum_var_exp'] = np.append(model['cum_var_exp'],delayed_vals,axis=0)\n",
        "\n",
        "        residuals = self.residuals.compute()\n",
        "        residuals = residuals.values\n",
        "        residuals = residuals.reshape(self.n_partitions,self.n_features,self.n_rows)\n",
        "        model['residuals'] = residuals\n",
        "\n",
        "        if not (write_ckp == None):\n",
        "            self.write_checkpoint(model,total_components)\n",
        "        print(type(model))\n",
        "        return model\n",
        "\n",
        "    def write_checkpoint(self,model,n_components):\n",
        "\n",
        "        cum_var_exp = np.reshape(model['cum_var_exp'],(n_components,self.n_partitions))\n",
        "        cum_var_exp = pd.DataFrame(cum_var_exp)\n",
        "        cum_var_exp.to_hdf(root+'cum_var_exp_ckp.h5',key='data',format='fixed')\n",
        "\n",
        "        residuals = np.reshape(model['residuals'],(self.n_partitions,self.n_features,self.n_rows))\n",
        "        residuals = np.vstack(model['residuals'])\n",
        "        residuals = pd.DataFrame(residuals)\n",
        "        residuals.to_hdf(root+'residuals_stack_ckp.h5',key='data',format='table')\n",
        "\n",
        "        p_b_stack = np.reshape(model['p_b'],(n_components,self.n_partitions,self.n_features))\n",
        "        p_b_stack = np.vstack(p_b_stack)\n",
        "        p_b_stack = pd.DataFrame(p_b_stack)\n",
        "        p_b_stack.to_hdf(root+'p_b_stack_ckp.h5',key='data',format='fixed')\n",
        "\n",
        "        t_T_score = np.reshape(model['t_T_scores'],(n_components,self.n_rows))\n",
        "        t_T_score = pd.DataFrame(t_T_score)\n",
        "        t_T_score.to_hdf(root+'t_T_score_ckp.h5',key='data',format='fixed')\n",
        "\n",
        "        t_b_stack = np.reshape(model['t_b'],(n_components,self.n_partitions,self.n_rows))\n",
        "        t_b_stack = np.vstack(t_b_stack)\n",
        "        t_b_stack = pd.DataFrame(t_b_stack)\n",
        "        t_b_stack.to_hdf(root+'t_b_stack_ckp.h5',key='data',format='fixed')\n",
        "\n",
        "        w_T = np.reshape(model['w_T'],(n_components,self.n_partitions))\n",
        "        w_T = pd.DataFrame(w_T)\n",
        "        w_T.to_hdf(root+'w_T_ckp.h5',key='data',format='fixed')\n"
      ]
    },
    {
      "cell_type": "code",
      "execution_count": 5,
      "metadata": {
        "id": "oAh7p38eK82M"
      },
      "outputs": [],
      "source": [
        "root = 'E:/Projects/Bridge_Data/'"
      ]
    },
    {
      "cell_type": "code",
      "execution_count": null,
      "metadata": {
        "id": "9NY963Jlbb1e"
      },
      "outputs": [],
      "source": [
        "#original\n",
        "blocks, files = read_hdfs(root,['201811'])\n",
        "#,'201811','201812','201901','201911','201912'\n",
        "#blocks = read_hdfs(root,['201811','201812','201901','201902','201910','201911','201912','202001'])"
      ]
    },
    {
      "cell_type": "code",
      "execution_count": 8,
      "metadata": {
        "id": "gysCb_zgr-V6"
      },
      "outputs": [],
      "source": [
        "#meow = pd.DataFrame([-0.40824829, -0.16738194, -0.82674259,  0.06009628, -0.19901919,-0.28034463]).values"
      ]
    },
    {
      "cell_type": "code",
      "execution_count": 7,
      "metadata": {
        "id": "DPiHuAQrhr93"
      },
      "outputs": [],
      "source": [
        "test = nipals_methods(root)"
      ]
    },
    {
      "cell_type": "code",
      "execution_count": 15,
      "metadata": {},
      "outputs": [],
      "source": [
        "test_block = (blocks.get_partition(1).values).compute()"
      ]
    },
    {
      "cell_type": "code",
      "execution_count": 16,
      "metadata": {},
      "outputs": [
        {
          "data": {
            "text/plain": [
              "40964.999999999985"
            ]
          },
          "execution_count": 16,
          "metadata": {},
          "output_type": "execute_result"
        }
      ],
      "source": [
        "np.trace(test_block.T @ test_block)"
      ]
    },
    {
      "cell_type": "code",
      "execution_count": 9,
      "metadata": {
        "colab": {
          "base_uri": "https://localhost:8080/",
          "height": 356
        },
        "id": "OxlZ66sfhzeu",
        "outputId": "aac2ceda-ba9b-491e-885f-353a69f16a68"
      },
      "outputs": [
        {
          "name": "stdout",
          "output_type": "stream",
          "text": [
            "Fitting component  1\n",
            "Current Iteration:  0\n",
            "1.0\n",
            "T shape\n",
            "(6, 186)\n",
            "Current Iteration:  1\n",
            "1.0\n",
            "T shape\n",
            "(6, 186)\n",
            "Current Iteration:  2\n",
            "1.0000000000000002\n",
            "T shape\n",
            "(6, 186)\n",
            "Current Iteration:  3\n"
          ]
        },
        {
          "ename": "KeyboardInterrupt",
          "evalue": "",
          "output_type": "error",
          "traceback": [
            "\u001b[1;31m---------------------------------------------------------------------------\u001b[0m",
            "\u001b[1;31mKeyboardInterrupt\u001b[0m                         Traceback (most recent call last)",
            "Cell \u001b[1;32mIn[9], line 1\u001b[0m\n\u001b[1;32m----> 1\u001b[0m model \u001b[38;5;241m=\u001b[39m \u001b[43mtest\u001b[49m\u001b[38;5;241;43m.\u001b[39;49m\u001b[43mfit\u001b[49m\u001b[43m(\u001b[49m\u001b[43mX\u001b[49m\u001b[38;5;241;43m=\u001b[39;49m\u001b[43mblocks\u001b[49m\u001b[43m,\u001b[49m\u001b[43mtolerance\u001b[49m\u001b[38;5;241;43m=\u001b[39;49m\u001b[38;5;241;43m0.01\u001b[39;49m\u001b[43m,\u001b[49m\u001b[43mmax_iter\u001b[49m\u001b[38;5;241;43m=\u001b[39;49m\u001b[38;5;241;43m5\u001b[39;49m\u001b[43m,\u001b[49m\u001b[43mn_components\u001b[49m\u001b[38;5;241;43m=\u001b[39;49m\u001b[38;5;241;43m10\u001b[39;49m\u001b[43m,\u001b[49m\u001b[43mread_ckp\u001b[49m\u001b[38;5;241;43m=\u001b[39;49m\u001b[38;5;28;43;01mNone\u001b[39;49;00m\u001b[43m,\u001b[49m\u001b[43mwrite_ckp\u001b[49m\u001b[38;5;241;43m=\u001b[39;49m\u001b[38;5;28;43;01mFalse\u001b[39;49;00m\u001b[43m)\u001b[49m\n",
            "Cell \u001b[1;32mIn[4], line 132\u001b[0m, in \u001b[0;36mnipals_methods.fit\u001b[1;34m(self, X, tolerance, max_iter, n_components, read_ckp, write_ckp)\u001b[0m\n\u001b[0;32m    129\u001b[0m \u001b[38;5;28;01mfor\u001b[39;00m j \u001b[38;5;129;01min\u001b[39;00m \u001b[38;5;28mrange\u001b[39m(max_iter):\n\u001b[0;32m    131\u001b[0m     \u001b[38;5;28mprint\u001b[39m(\u001b[38;5;124m'\u001b[39m\u001b[38;5;124mCurrent Iteration: \u001b[39m\u001b[38;5;124m'\u001b[39m,j)\n\u001b[1;32m--> 132\u001b[0m     \u001b[38;5;28;43mself\u001b[39;49m\u001b[38;5;241;43m.\u001b[39;49m\u001b[43mcompute_block_loadings\u001b[49m\u001b[43m(\u001b[49m\u001b[43m)\u001b[49m\n\u001b[0;32m    133\u001b[0m     \u001b[38;5;28mself\u001b[39m\u001b[38;5;241m.\u001b[39mcompute_block_scores()\n\u001b[0;32m    134\u001b[0m     \u001b[38;5;28mself\u001b[39m\u001b[38;5;241m.\u001b[39mcompute_super_weight()\n",
            "Cell \u001b[1;32mIn[4], line 29\u001b[0m, in \u001b[0;36mnipals_methods.compute_block_loadings\u001b[1;34m(self, no_norm)\u001b[0m\n\u001b[0;32m     27\u001b[0m p_b \u001b[38;5;241m=\u001b[39m []\n\u001b[0;32m     28\u001b[0m df_map \u001b[38;5;241m=\u001b[39m dd\u001b[38;5;241m.\u001b[39mmap_partitions(dot_p_b,\u001b[38;5;28mself\u001b[39m\u001b[38;5;241m.\u001b[39mt_T,\u001b[38;5;28mself\u001b[39m\u001b[38;5;241m.\u001b[39mdf,\u001b[38;5;28mself\u001b[39m\u001b[38;5;241m.\u001b[39mn_rows,\u001b[38;5;28mself\u001b[39m\u001b[38;5;241m.\u001b[39mn_features,no_norm)\n\u001b[1;32m---> 29\u001b[0m delayed_fncs \u001b[38;5;241m=\u001b[39m \u001b[43mdf_map\u001b[49m\u001b[38;5;241;43m.\u001b[39;49m\u001b[43mcompute\u001b[49m\u001b[43m(\u001b[49m\u001b[43m)\u001b[49m\n\u001b[0;32m     30\u001b[0m \u001b[38;5;28mprint\u001b[39m(np\u001b[38;5;241m.\u001b[39mlinalg\u001b[38;5;241m.\u001b[39mnorm(delayed_fncs[\u001b[38;5;241m1\u001b[39m]\u001b[38;5;241m.\u001b[39mcompute()))\n\u001b[0;32m     31\u001b[0m \u001b[38;5;28;01mfor\u001b[39;00m i \u001b[38;5;129;01min\u001b[39;00m \u001b[38;5;28mrange\u001b[39m(\u001b[38;5;28mlen\u001b[39m(delayed_fncs)):\n",
            "File \u001b[1;32mc:\\Users\\Clare\\anaconda3\\envs\\pyclare3\\Lib\\site-packages\\dask\\base.py:342\u001b[0m, in \u001b[0;36mDaskMethodsMixin.compute\u001b[1;34m(self, **kwargs)\u001b[0m\n\u001b[0;32m    318\u001b[0m \u001b[38;5;28;01mdef\u001b[39;00m \u001b[38;5;21mcompute\u001b[39m(\u001b[38;5;28mself\u001b[39m, \u001b[38;5;241m*\u001b[39m\u001b[38;5;241m*\u001b[39mkwargs):\n\u001b[0;32m    319\u001b[0m \u001b[38;5;250m    \u001b[39m\u001b[38;5;124;03m\"\"\"Compute this dask collection\u001b[39;00m\n\u001b[0;32m    320\u001b[0m \n\u001b[0;32m    321\u001b[0m \u001b[38;5;124;03m    This turns a lazy Dask collection into its in-memory equivalent.\u001b[39;00m\n\u001b[1;32m   (...)\u001b[0m\n\u001b[0;32m    340\u001b[0m \u001b[38;5;124;03m    dask.compute\u001b[39;00m\n\u001b[0;32m    341\u001b[0m \u001b[38;5;124;03m    \"\"\"\u001b[39;00m\n\u001b[1;32m--> 342\u001b[0m     (result,) \u001b[38;5;241m=\u001b[39m \u001b[43mcompute\u001b[49m\u001b[43m(\u001b[49m\u001b[38;5;28;43mself\u001b[39;49m\u001b[43m,\u001b[49m\u001b[43m \u001b[49m\u001b[43mtraverse\u001b[49m\u001b[38;5;241;43m=\u001b[39;49m\u001b[38;5;28;43;01mFalse\u001b[39;49;00m\u001b[43m,\u001b[49m\u001b[43m \u001b[49m\u001b[38;5;241;43m*\u001b[39;49m\u001b[38;5;241;43m*\u001b[39;49m\u001b[43mkwargs\u001b[49m\u001b[43m)\u001b[49m\n\u001b[0;32m    343\u001b[0m     \u001b[38;5;28;01mreturn\u001b[39;00m result\n",
            "File \u001b[1;32mc:\\Users\\Clare\\anaconda3\\envs\\pyclare3\\Lib\\site-packages\\dask\\base.py:628\u001b[0m, in \u001b[0;36mcompute\u001b[1;34m(traverse, optimize_graph, scheduler, get, *args, **kwargs)\u001b[0m\n\u001b[0;32m    625\u001b[0m     postcomputes\u001b[38;5;241m.\u001b[39mappend(x\u001b[38;5;241m.\u001b[39m__dask_postcompute__())\n\u001b[0;32m    627\u001b[0m \u001b[38;5;28;01mwith\u001b[39;00m shorten_traceback():\n\u001b[1;32m--> 628\u001b[0m     results \u001b[38;5;241m=\u001b[39m \u001b[43mschedule\u001b[49m\u001b[43m(\u001b[49m\u001b[43mdsk\u001b[49m\u001b[43m,\u001b[49m\u001b[43m \u001b[49m\u001b[43mkeys\u001b[49m\u001b[43m,\u001b[49m\u001b[43m \u001b[49m\u001b[38;5;241;43m*\u001b[39;49m\u001b[38;5;241;43m*\u001b[39;49m\u001b[43mkwargs\u001b[49m\u001b[43m)\u001b[49m\n\u001b[0;32m    630\u001b[0m \u001b[38;5;28;01mreturn\u001b[39;00m repack([f(r, \u001b[38;5;241m*\u001b[39ma) \u001b[38;5;28;01mfor\u001b[39;00m r, (f, a) \u001b[38;5;129;01min\u001b[39;00m \u001b[38;5;28mzip\u001b[39m(results, postcomputes)])\n",
            "File \u001b[1;32mc:\\Users\\Clare\\anaconda3\\envs\\pyclare3\\Lib\\queue.py:180\u001b[0m, in \u001b[0;36mQueue.get\u001b[1;34m(self, block, timeout)\u001b[0m\n\u001b[0;32m    178\u001b[0m         \u001b[38;5;28;01mif\u001b[39;00m remaining \u001b[38;5;241m<\u001b[39m\u001b[38;5;241m=\u001b[39m \u001b[38;5;241m0.0\u001b[39m:\n\u001b[0;32m    179\u001b[0m             \u001b[38;5;28;01mraise\u001b[39;00m Empty\n\u001b[1;32m--> 180\u001b[0m         \u001b[38;5;28;43mself\u001b[39;49m\u001b[38;5;241;43m.\u001b[39;49m\u001b[43mnot_empty\u001b[49m\u001b[38;5;241;43m.\u001b[39;49m\u001b[43mwait\u001b[49m\u001b[43m(\u001b[49m\u001b[43mremaining\u001b[49m\u001b[43m)\u001b[49m\n\u001b[0;32m    181\u001b[0m item \u001b[38;5;241m=\u001b[39m \u001b[38;5;28mself\u001b[39m\u001b[38;5;241m.\u001b[39m_get()\n\u001b[0;32m    182\u001b[0m \u001b[38;5;28mself\u001b[39m\u001b[38;5;241m.\u001b[39mnot_full\u001b[38;5;241m.\u001b[39mnotify()\n",
            "File \u001b[1;32mc:\\Users\\Clare\\anaconda3\\envs\\pyclare3\\Lib\\threading.py:324\u001b[0m, in \u001b[0;36mCondition.wait\u001b[1;34m(self, timeout)\u001b[0m\n\u001b[0;32m    322\u001b[0m \u001b[38;5;28;01melse\u001b[39;00m:\n\u001b[0;32m    323\u001b[0m     \u001b[38;5;28;01mif\u001b[39;00m timeout \u001b[38;5;241m>\u001b[39m \u001b[38;5;241m0\u001b[39m:\n\u001b[1;32m--> 324\u001b[0m         gotit \u001b[38;5;241m=\u001b[39m \u001b[43mwaiter\u001b[49m\u001b[38;5;241;43m.\u001b[39;49m\u001b[43macquire\u001b[49m\u001b[43m(\u001b[49m\u001b[38;5;28;43;01mTrue\u001b[39;49;00m\u001b[43m,\u001b[49m\u001b[43m \u001b[49m\u001b[43mtimeout\u001b[49m\u001b[43m)\u001b[49m\n\u001b[0;32m    325\u001b[0m     \u001b[38;5;28;01melse\u001b[39;00m:\n\u001b[0;32m    326\u001b[0m         gotit \u001b[38;5;241m=\u001b[39m waiter\u001b[38;5;241m.\u001b[39macquire(\u001b[38;5;28;01mFalse\u001b[39;00m)\n",
            "\u001b[1;31mKeyboardInterrupt\u001b[0m: "
          ]
        }
      ],
      "source": [
        "model = test.fit(X=blocks,tolerance=0.01,max_iter=5,n_components=10,read_ckp=None,write_ckp=False)"
      ]
    },
    {
      "cell_type": "code",
      "execution_count": null,
      "metadata": {
        "id": "tAy0WXUQ7l4K"
      },
      "outputs": [],
      "source": []
    },
    {
      "cell_type": "code",
      "execution_count": null,
      "metadata": {
        "id": "5bn-0lGo7l1U"
      },
      "outputs": [],
      "source": []
    },
    {
      "cell_type": "code",
      "execution_count": null,
      "metadata": {
        "id": "5JYwwlrM7lyn"
      },
      "outputs": [],
      "source": []
    },
    {
      "cell_type": "code",
      "execution_count": null,
      "metadata": {
        "id": "StZAJvSZ7lv2"
      },
      "outputs": [],
      "source": []
    },
    {
      "cell_type": "code",
      "execution_count": null,
      "metadata": {
        "id": "tXeY1GQZ7ls4"
      },
      "outputs": [],
      "source": []
    },
    {
      "cell_type": "code",
      "execution_count": null,
      "metadata": {
        "id": "hyraa7vM7lp7"
      },
      "outputs": [],
      "source": []
    },
    {
      "cell_type": "code",
      "execution_count": null,
      "metadata": {
        "id": "GNKkM5Lv7lnK"
      },
      "outputs": [],
      "source": []
    },
    {
      "cell_type": "code",
      "execution_count": null,
      "metadata": {
        "id": "xGnCU0gh7lkW"
      },
      "outputs": [],
      "source": []
    },
    {
      "cell_type": "code",
      "execution_count": null,
      "metadata": {
        "id": "TRKBje_47lhh"
      },
      "outputs": [],
      "source": []
    },
    {
      "cell_type": "code",
      "execution_count": null,
      "metadata": {
        "id": "8sB1kA2H7leu"
      },
      "outputs": [],
      "source": []
    },
    {
      "cell_type": "code",
      "execution_count": null,
      "metadata": {
        "id": "Hy5ukmIhmQTg"
      },
      "outputs": [],
      "source": [
        "meower = pd.DataFrame(model['cum_var_exp'])\n",
        "himeow = pd.DataFrame(meower.iloc[0]).transpose().values\n",
        "meowermeow = pd.DataFrame(meower.diff())\n",
        "meowermeow.loc[0] = himeow"
      ]
    },
    {
      "cell_type": "code",
      "execution_count": null,
      "metadata": {
        "id": "njFoLt2uF1Lt"
      },
      "outputs": [],
      "source": []
    },
    {
      "cell_type": "code",
      "execution_count": null,
      "metadata": {
        "id": "UYLeU3wyFnrH"
      },
      "outputs": [],
      "source": [
        "model['p_b'].shape"
      ]
    },
    {
      "cell_type": "code",
      "execution_count": null,
      "metadata": {
        "colab": {
          "base_uri": "https://localhost:8080/",
          "height": 392
        },
        "id": "yXMyvWQsjAue",
        "outputId": "58fe40f9-d687-4c95-bebd-c2df7627f299"
      },
      "outputs": [
        {
          "data": {
            "text/html": [
              "<div>\n",
              "<style scoped>\n",
              "    .dataframe tbody tr th:only-of-type {\n",
              "        vertical-align: middle;\n",
              "    }\n",
              "\n",
              "    .dataframe tbody tr th {\n",
              "        vertical-align: top;\n",
              "    }\n",
              "\n",
              "    .dataframe thead th {\n",
              "        text-align: right;\n",
              "    }\n",
              "</style>\n",
              "<table border=\"1\" class=\"dataframe\">\n",
              "  <thead>\n",
              "    <tr style=\"text-align: right;\">\n",
              "      <th></th>\n",
              "      <th>0</th>\n",
              "      <th>1</th>\n",
              "      <th>2</th>\n",
              "      <th>3</th>\n",
              "      <th>4</th>\n",
              "      <th>5</th>\n",
              "      <th>6</th>\n",
              "      <th>7</th>\n",
              "      <th>8</th>\n",
              "      <th>9</th>\n",
              "      <th>...</th>\n",
              "      <th>176</th>\n",
              "      <th>177</th>\n",
              "      <th>178</th>\n",
              "      <th>179</th>\n",
              "      <th>180</th>\n",
              "      <th>181</th>\n",
              "      <th>182</th>\n",
              "      <th>183</th>\n",
              "      <th>184</th>\n",
              "      <th>185</th>\n",
              "    </tr>\n",
              "  </thead>\n",
              "  <tbody>\n",
              "    <tr>\n",
              "      <th>0</th>\n",
              "      <td>0.196734</td>\n",
              "      <td>0.176503</td>\n",
              "      <td>0.161266</td>\n",
              "      <td>0.202313</td>\n",
              "      <td>0.190423</td>\n",
              "      <td>0.165380</td>\n",
              "      <td>0.108184</td>\n",
              "      <td>0.215724</td>\n",
              "      <td>0.260643</td>\n",
              "      <td>0.172995</td>\n",
              "      <td>...</td>\n",
              "      <td>0.305486</td>\n",
              "      <td>0.327785</td>\n",
              "      <td>0.327310</td>\n",
              "      <td>0.298450</td>\n",
              "      <td>0.324313</td>\n",
              "      <td>0.297171</td>\n",
              "      <td>0.281237</td>\n",
              "      <td>0.258994</td>\n",
              "      <td>0.279247</td>\n",
              "      <td>0.266429</td>\n",
              "    </tr>\n",
              "    <tr>\n",
              "      <th>1</th>\n",
              "      <td>52.000804</td>\n",
              "      <td>54.937735</td>\n",
              "      <td>61.687377</td>\n",
              "      <td>56.305102</td>\n",
              "      <td>58.700754</td>\n",
              "      <td>59.213271</td>\n",
              "      <td>65.563600</td>\n",
              "      <td>66.229601</td>\n",
              "      <td>66.757297</td>\n",
              "      <td>65.935608</td>\n",
              "      <td>...</td>\n",
              "      <td>66.168693</td>\n",
              "      <td>64.275857</td>\n",
              "      <td>65.982339</td>\n",
              "      <td>65.761028</td>\n",
              "      <td>65.002893</td>\n",
              "      <td>65.091513</td>\n",
              "      <td>66.063531</td>\n",
              "      <td>64.121377</td>\n",
              "      <td>65.548320</td>\n",
              "      <td>65.385335</td>\n",
              "    </tr>\n",
              "    <tr>\n",
              "      <th>2</th>\n",
              "      <td>68.693309</td>\n",
              "      <td>72.365811</td>\n",
              "      <td>79.900612</td>\n",
              "      <td>73.634129</td>\n",
              "      <td>76.451273</td>\n",
              "      <td>76.943880</td>\n",
              "      <td>84.752932</td>\n",
              "      <td>85.860328</td>\n",
              "      <td>86.439462</td>\n",
              "      <td>85.430024</td>\n",
              "      <td>...</td>\n",
              "      <td>85.244460</td>\n",
              "      <td>82.845602</td>\n",
              "      <td>84.991646</td>\n",
              "      <td>84.764487</td>\n",
              "      <td>84.220929</td>\n",
              "      <td>84.055758</td>\n",
              "      <td>85.092595</td>\n",
              "      <td>82.844576</td>\n",
              "      <td>84.656481</td>\n",
              "      <td>84.366907</td>\n",
              "    </tr>\n",
              "    <tr>\n",
              "      <th>3</th>\n",
              "      <td>75.363649</td>\n",
              "      <td>78.895220</td>\n",
              "      <td>85.348298</td>\n",
              "      <td>79.834431</td>\n",
              "      <td>82.400146</td>\n",
              "      <td>82.820002</td>\n",
              "      <td>89.785119</td>\n",
              "      <td>90.918085</td>\n",
              "      <td>91.354940</td>\n",
              "      <td>90.471377</td>\n",
              "      <td>...</td>\n",
              "      <td>90.356929</td>\n",
              "      <td>88.244589</td>\n",
              "      <td>89.971956</td>\n",
              "      <td>89.813887</td>\n",
              "      <td>89.408252</td>\n",
              "      <td>89.189732</td>\n",
              "      <td>90.096273</td>\n",
              "      <td>88.052841</td>\n",
              "      <td>89.736807</td>\n",
              "      <td>89.394582</td>\n",
              "    </tr>\n",
              "    <tr>\n",
              "      <th>4</th>\n",
              "      <td>79.784130</td>\n",
              "      <td>82.891797</td>\n",
              "      <td>88.296453</td>\n",
              "      <td>83.716379</td>\n",
              "      <td>85.947966</td>\n",
              "      <td>86.259472</td>\n",
              "      <td>92.180101</td>\n",
              "      <td>93.192004</td>\n",
              "      <td>93.595380</td>\n",
              "      <td>92.790076</td>\n",
              "      <td>...</td>\n",
              "      <td>92.738213</td>\n",
              "      <td>90.938071</td>\n",
              "      <td>92.334795</td>\n",
              "      <td>92.259503</td>\n",
              "      <td>91.782192</td>\n",
              "      <td>91.661129</td>\n",
              "      <td>92.405538</td>\n",
              "      <td>90.625249</td>\n",
              "      <td>92.073670</td>\n",
              "      <td>91.840617</td>\n",
              "    </tr>\n",
              "    <tr>\n",
              "      <th>5</th>\n",
              "      <td>83.192011</td>\n",
              "      <td>85.860568</td>\n",
              "      <td>90.325336</td>\n",
              "      <td>86.514209</td>\n",
              "      <td>88.349305</td>\n",
              "      <td>88.567400</td>\n",
              "      <td>93.584355</td>\n",
              "      <td>94.458460</td>\n",
              "      <td>94.749734</td>\n",
              "      <td>94.095940</td>\n",
              "      <td>...</td>\n",
              "      <td>94.138242</td>\n",
              "      <td>92.618925</td>\n",
              "      <td>93.765983</td>\n",
              "      <td>93.715785</td>\n",
              "      <td>93.234161</td>\n",
              "      <td>93.120322</td>\n",
              "      <td>93.842270</td>\n",
              "      <td>92.326275</td>\n",
              "      <td>93.553588</td>\n",
              "      <td>93.348242</td>\n",
              "    </tr>\n",
              "    <tr>\n",
              "      <th>6</th>\n",
              "      <td>86.093505</td>\n",
              "      <td>88.217478</td>\n",
              "      <td>91.988524</td>\n",
              "      <td>88.774929</td>\n",
              "      <td>90.250413</td>\n",
              "      <td>90.482843</td>\n",
              "      <td>94.694090</td>\n",
              "      <td>95.375461</td>\n",
              "      <td>95.633408</td>\n",
              "      <td>95.112865</td>\n",
              "      <td>...</td>\n",
              "      <td>95.088797</td>\n",
              "      <td>93.818448</td>\n",
              "      <td>94.763476</td>\n",
              "      <td>94.748871</td>\n",
              "      <td>94.360141</td>\n",
              "      <td>94.287522</td>\n",
              "      <td>94.869719</td>\n",
              "      <td>93.555549</td>\n",
              "      <td>94.617034</td>\n",
              "      <td>94.445284</td>\n",
              "    </tr>\n",
              "    <tr>\n",
              "      <th>7</th>\n",
              "      <td>88.378440</td>\n",
              "      <td>90.087485</td>\n",
              "      <td>93.297954</td>\n",
              "      <td>90.554074</td>\n",
              "      <td>91.843508</td>\n",
              "      <td>91.977776</td>\n",
              "      <td>95.563786</td>\n",
              "      <td>96.154368</td>\n",
              "      <td>96.358357</td>\n",
              "      <td>95.938360</td>\n",
              "      <td>...</td>\n",
              "      <td>95.878228</td>\n",
              "      <td>94.838885</td>\n",
              "      <td>95.617535</td>\n",
              "      <td>95.601125</td>\n",
              "      <td>95.345353</td>\n",
              "      <td>95.288821</td>\n",
              "      <td>95.746205</td>\n",
              "      <td>94.670708</td>\n",
              "      <td>95.510526</td>\n",
              "      <td>95.358885</td>\n",
              "    </tr>\n",
              "    <tr>\n",
              "      <th>8</th>\n",
              "      <td>90.260758</td>\n",
              "      <td>91.706611</td>\n",
              "      <td>94.411442</td>\n",
              "      <td>92.072897</td>\n",
              "      <td>93.238367</td>\n",
              "      <td>93.362649</td>\n",
              "      <td>96.299276</td>\n",
              "      <td>96.779739</td>\n",
              "      <td>96.959679</td>\n",
              "      <td>96.629198</td>\n",
              "      <td>...</td>\n",
              "      <td>96.551900</td>\n",
              "      <td>95.677851</td>\n",
              "      <td>96.353771</td>\n",
              "      <td>96.365783</td>\n",
              "      <td>96.110617</td>\n",
              "      <td>96.113330</td>\n",
              "      <td>96.470780</td>\n",
              "      <td>95.578541</td>\n",
              "      <td>96.242482</td>\n",
              "      <td>96.161477</td>\n",
              "    </tr>\n",
              "    <tr>\n",
              "      <th>9</th>\n",
              "      <td>91.816418</td>\n",
              "      <td>93.082039</td>\n",
              "      <td>95.359109</td>\n",
              "      <td>93.408791</td>\n",
              "      <td>94.391981</td>\n",
              "      <td>94.492081</td>\n",
              "      <td>96.921635</td>\n",
              "      <td>97.321604</td>\n",
              "      <td>97.452078</td>\n",
              "      <td>97.178072</td>\n",
              "      <td>...</td>\n",
              "      <td>97.124691</td>\n",
              "      <td>96.417649</td>\n",
              "      <td>96.979108</td>\n",
              "      <td>96.946857</td>\n",
              "      <td>96.763358</td>\n",
              "      <td>96.772814</td>\n",
              "      <td>97.041593</td>\n",
              "      <td>96.305275</td>\n",
              "      <td>96.851376</td>\n",
              "      <td>96.787655</td>\n",
              "    </tr>\n",
              "  </tbody>\n",
              "</table>\n",
              "<p>10 rows × 186 columns</p>\n",
              "</div>"
            ],
            "text/plain": [
              "         0          1          2          3          4          5    \\\n",
              "0   0.196734   0.176503   0.161266   0.202313   0.190423   0.165380   \n",
              "1  52.000804  54.937735  61.687377  56.305102  58.700754  59.213271   \n",
              "2  68.693309  72.365811  79.900612  73.634129  76.451273  76.943880   \n",
              "3  75.363649  78.895220  85.348298  79.834431  82.400146  82.820002   \n",
              "4  79.784130  82.891797  88.296453  83.716379  85.947966  86.259472   \n",
              "5  83.192011  85.860568  90.325336  86.514209  88.349305  88.567400   \n",
              "6  86.093505  88.217478  91.988524  88.774929  90.250413  90.482843   \n",
              "7  88.378440  90.087485  93.297954  90.554074  91.843508  91.977776   \n",
              "8  90.260758  91.706611  94.411442  92.072897  93.238367  93.362649   \n",
              "9  91.816418  93.082039  95.359109  93.408791  94.391981  94.492081   \n",
              "\n",
              "         6          7          8          9    ...        176        177  \\\n",
              "0   0.108184   0.215724   0.260643   0.172995  ...   0.305486   0.327785   \n",
              "1  65.563600  66.229601  66.757297  65.935608  ...  66.168693  64.275857   \n",
              "2  84.752932  85.860328  86.439462  85.430024  ...  85.244460  82.845602   \n",
              "3  89.785119  90.918085  91.354940  90.471377  ...  90.356929  88.244589   \n",
              "4  92.180101  93.192004  93.595380  92.790076  ...  92.738213  90.938071   \n",
              "5  93.584355  94.458460  94.749734  94.095940  ...  94.138242  92.618925   \n",
              "6  94.694090  95.375461  95.633408  95.112865  ...  95.088797  93.818448   \n",
              "7  95.563786  96.154368  96.358357  95.938360  ...  95.878228  94.838885   \n",
              "8  96.299276  96.779739  96.959679  96.629198  ...  96.551900  95.677851   \n",
              "9  96.921635  97.321604  97.452078  97.178072  ...  97.124691  96.417649   \n",
              "\n",
              "         178        179        180        181        182        183  \\\n",
              "0   0.327310   0.298450   0.324313   0.297171   0.281237   0.258994   \n",
              "1  65.982339  65.761028  65.002893  65.091513  66.063531  64.121377   \n",
              "2  84.991646  84.764487  84.220929  84.055758  85.092595  82.844576   \n",
              "3  89.971956  89.813887  89.408252  89.189732  90.096273  88.052841   \n",
              "4  92.334795  92.259503  91.782192  91.661129  92.405538  90.625249   \n",
              "5  93.765983  93.715785  93.234161  93.120322  93.842270  92.326275   \n",
              "6  94.763476  94.748871  94.360141  94.287522  94.869719  93.555549   \n",
              "7  95.617535  95.601125  95.345353  95.288821  95.746205  94.670708   \n",
              "8  96.353771  96.365783  96.110617  96.113330  96.470780  95.578541   \n",
              "9  96.979108  96.946857  96.763358  96.772814  97.041593  96.305275   \n",
              "\n",
              "         184        185  \n",
              "0   0.279247   0.266429  \n",
              "1  65.548320  65.385335  \n",
              "2  84.656481  84.366907  \n",
              "3  89.736807  89.394582  \n",
              "4  92.073670  91.840617  \n",
              "5  93.553588  93.348242  \n",
              "6  94.617034  94.445284  \n",
              "7  95.510526  95.358885  \n",
              "8  96.242482  96.161477  \n",
              "9  96.851376  96.787655  \n",
              "\n",
              "[10 rows x 186 columns]"
            ]
          },
          "execution_count": 11,
          "metadata": {},
          "output_type": "execute_result"
        }
      ],
      "source": [
        "meower"
      ]
    },
    {
      "cell_type": "code",
      "execution_count": null,
      "metadata": {
        "id": "e6z1yLL82HNY"
      },
      "outputs": [],
      "source": [
        "meowermeow = meowermeow.sort_values(0,axis=0,ascending=False).reset_index(drop=True)"
      ]
    },
    {
      "cell_type": "code",
      "execution_count": null,
      "metadata": {
        "id": "wdhgcm67sCuu"
      },
      "outputs": [],
      "source": [
        "max(meower.loc[0])"
      ]
    },
    {
      "cell_type": "code",
      "execution_count": null,
      "metadata": {
        "id": "IKeK7-JKRFl9"
      },
      "outputs": [],
      "source": [
        "meowermeow_avg = pd.DataFrame(meower.mean(axis=1))"
      ]
    },
    {
      "cell_type": "code",
      "execution_count": null,
      "metadata": {
        "id": "GvMzVuSERI9Z"
      },
      "outputs": [],
      "source": [
        "meowermeow_avg = meowermeow_avg.reset_index(drop=True).transpose()"
      ]
    },
    {
      "cell_type": "code",
      "execution_count": null,
      "metadata": {
        "id": "adolDQgLS8Xx"
      },
      "outputs": [],
      "source": [
        "meowermeow_avg.values[0]"
      ]
    },
    {
      "cell_type": "code",
      "execution_count": null,
      "metadata": {
        "id": "4Zo6kiuvjy74"
      },
      "outputs": [],
      "source": [
        "help = blocks.compute().reset_index()"
      ]
    },
    {
      "cell_type": "code",
      "execution_count": null,
      "metadata": {
        "id": "S4ubamp7j-uV"
      },
      "outputs": [],
      "source": [
        "help"
      ]
    },
    {
      "cell_type": "code",
      "execution_count": null,
      "metadata": {
        "id": "3EsnEpX9QoS5"
      },
      "outputs": [],
      "source": [
        "block_range = (np.arange(1,21))"
      ]
    },
    {
      "cell_type": "code",
      "execution_count": null,
      "metadata": {
        "id": "CP5tLpttRC2_"
      },
      "outputs": [],
      "source": [
        "plt.bar(block_range,meowermeow_avg.values[0])\n",
        "plt.title('Model Summary for X-space')\n",
        "plt.xticks(block_range)\n",
        "plt.xlabel('Component')\n",
        "plt.ylabel('Cumulative R\\u00b2')"
      ]
    },
    {
      "cell_type": "code",
      "execution_count": null,
      "metadata": {
        "id": "ly_SiAB4xfmj"
      },
      "outputs": [],
      "source": [
        "part_1 = ['r' for i in range(128*6)]\n",
        "part_2 = ['r' for i in range(180*6)]\n",
        "part_3 = ['r' for i in range(186*6)]\n",
        "part_4 = ['r' for i in range(186*6)]\n",
        "part_5 = ['b' for i in range(360*6)]\n",
        "part_6 = ['b' for i in range(348*6)]\n",
        "\n",
        "# part_1 = ['r' for i in range(180*6)]\n",
        "# part_2 = ['r' for i in range(186*6)]\n",
        "# part_3 = ['r' for i in range(186*6)]\n",
        "# part_4 = ['r' for i in range(168*6)]\n",
        "# part_5 = ['b' for i in range(372*6)]\n",
        "# part_6 = ['b' for i in range(360*6)]\n",
        "# part_7 = ['b' for i in range(348*6)]\n",
        "# part_8 = ['b' for i in range(180*6)]\n",
        "col = np.concatenate((part_1,part_2,part_3,part_4,part_5,part_6))\n",
        "\n",
        "#blocks = read_hdfs(root,['201811','201812','201901','201902','201910','201911','201912','202001'])"
      ]
    },
    {
      "cell_type": "code",
      "execution_count": null,
      "metadata": {
        "id": "vVqLZqA8r0Aq"
      },
      "outputs": [],
      "source": [
        "plt.scatter(model['t_b'][0][0:680],model['t_b'][1][0:680],c=col[0:680*6],marker='.',alpha=0.25)\n",
        "plt.title('PC1 vs PC2 Scores Before Retrofit')\n",
        "plt.xlabel('PC1')\n",
        "plt.ylabel('PC2')\n"
      ]
    },
    {
      "cell_type": "code",
      "execution_count": null,
      "metadata": {
        "id": "J34f9A6Fis4T"
      },
      "outputs": [],
      "source": [
        "len(col)"
      ]
    },
    {
      "cell_type": "code",
      "execution_count": null,
      "metadata": {
        "id": "56gMQ2pjofmH"
      },
      "outputs": [],
      "source": [
        "plt.scatter(model['t_b'][0][680:8328],model['t_b'][1][680:8328],c=col[680*6:8328],marker='.',alpha=0.25)\n",
        "plt.title('PC1 vs PC2 Scores After Retrofit')\n",
        "plt.xlabel('PC1')\n",
        "plt.ylabel('PC2')"
      ]
    },
    {
      "cell_type": "code",
      "execution_count": null,
      "metadata": {
        "id": "60zcZn-ssWWv"
      },
      "outputs": [],
      "source": [
        "part_1 = ['r' for i in range(128)]\n",
        "part_2 = ['r' for i in range(180)]\n",
        "part_3 = ['r' for i in range(186)]\n",
        "part_4 = ['r' for i in range(186)]\n",
        "part_5 = ['b' for i in range(360)]\n",
        "part_6 = ['b' for i in range(348)]\n",
        "col = np.concatenate((part_1,part_2,part_3,part_4,part_5,part_6))\n",
        "# part_1 = ['r' for i in range(180)]\n",
        "# part_2 = ['r' for i in range(186)]\n",
        "# part_3 = ['r' for i in range(186)]\n",
        "# part_4 = ['r' for i in range(168)]\n",
        "# part_5 = ['b' for i in range(372)]\n",
        "# part_6 = ['b' for i in range(360)]\n",
        "# part_7 = ['b' for i in range(348)]\n",
        "# part_8 = ['b' for i in range(99)]\n",
        "# col = np.concatenate((part_1,part_2,part_3,part_4,part_5,part_6,part_7,part_8))"
      ]
    },
    {
      "cell_type": "code",
      "execution_count": null,
      "metadata": {
        "id": "vBoEc-vU1Kgu"
      },
      "outputs": [],
      "source": [
        "len(col)"
      ]
    },
    {
      "cell_type": "code",
      "execution_count": null,
      "metadata": {
        "id": "MpI32syIrRWF"
      },
      "outputs": [],
      "source": [
        "\n",
        "\n",
        "plt.scatter(model['w_T'][0],model['w_T'][1],c=col,marker='.',alpha=0.25)\n",
        "plt.title('PC1 vs PC2 Super Weights')\n",
        "plt.xlabel('PC1')\n",
        "plt.ylabel('PC2')"
      ]
    },
    {
      "cell_type": "code",
      "execution_count": null,
      "metadata": {
        "id": "CKJFukA3o8Du"
      },
      "outputs": [],
      "source": [
        "super_weights = pd.DataFrame(model['w_T']).transpose()"
      ]
    },
    {
      "cell_type": "code",
      "execution_count": null,
      "metadata": {
        "id": "ArVutimdpEqx"
      },
      "outputs": [],
      "source": [
        "super_weights['month'] = col"
      ]
    },
    {
      "cell_type": "code",
      "execution_count": null,
      "metadata": {
        "id": "ftlx2FAZpQ8u"
      },
      "outputs": [],
      "source": [
        "import seaborn as sns"
      ]
    },
    {
      "cell_type": "code",
      "execution_count": null,
      "metadata": {
        "id": "gkRygtMxpSJH"
      },
      "outputs": [],
      "source": [
        "sns.set_theme(style=\"ticks\")\n",
        "sns.set_palette([sns.color_palette()[0],sns.color_palette()[3]], n_colors=2)\n",
        "sns.pairplot(super_weights, hue='month',kind='scatter',diag_kind='None',markers='.')\n"
      ]
    },
    {
      "cell_type": "code",
      "execution_count": null,
      "metadata": {
        "id": "qL5wcLFV92S5"
      },
      "outputs": [],
      "source": [
        "import scipy.io\n",
        "from scipy import signal\n",
        "from scipy.fft import fftshift\n",
        "import matplotlib.pyplot as plt\n",
        "mat = scipy.io.loadmat(root+'ambient_20190901_000000.mat')"
      ]
    },
    {
      "cell_type": "code",
      "execution_count": null,
      "metadata": {
        "id": "JlVQV48z98w8"
      },
      "outputs": [],
      "source": [
        "data = pd.DataFrame(mat['predat_a']['tdata'][0][0])"
      ]
    },
    {
      "cell_type": "code",
      "execution_count": null,
      "metadata": {
        "id": "iWbNQ7Hq--qj"
      },
      "outputs": [],
      "source": [
        "fs = mat['predat_a']['fs'][0][0][0][0]"
      ]
    },
    {
      "cell_type": "code",
      "execution_count": null,
      "metadata": {
        "id": "AsyGFnEL_CKL"
      },
      "outputs": [],
      "source": [
        "fs"
      ]
    },
    {
      "cell_type": "code",
      "execution_count": null,
      "metadata": {
        "id": "EAcYHlmN_hu2"
      },
      "outputs": [],
      "source": [
        "data.iloc[:,0]"
      ]
    },
    {
      "cell_type": "code",
      "execution_count": null,
      "metadata": {
        "id": "jTi5RxK3_WPu"
      },
      "outputs": [],
      "source": [
        "hann_window = signal.windows.hann(2**14)\n",
        "n_overlap=round(0.66*len(hann_window))"
      ]
    },
    {
      "cell_type": "code",
      "execution_count": null,
      "metadata": {
        "id": "AkfRtO2U_jHU"
      },
      "outputs": [],
      "source": [
        "len(hann_window)"
      ]
    },
    {
      "cell_type": "code",
      "execution_count": null,
      "metadata": {
        "id": "pNTutwQn9f66"
      },
      "outputs": [],
      "source": [
        "f, t, Sxx = signal.spectrogram(data.iloc[:,2], fs ,window=hann_window, noverlap=n_overlap)"
      ]
    },
    {
      "cell_type": "code",
      "execution_count": null,
      "metadata": {
        "id": "mvlEhBGQ_1qX"
      },
      "outputs": [],
      "source": [
        "plt.pcolormesh(t, f, 10*np.log10(Sxx),shading='gourand')\n",
        "plt.ylabel('Frequency [Hz]')\n",
        "plt.xlabel('Time [sec]')"
      ]
    }
  ],
  "metadata": {
    "accelerator": "TPU",
    "colab": {
      "machine_shape": "hm",
      "provenance": []
    },
    "gpuClass": "standard",
    "kernelspec": {
      "display_name": "Python 3",
      "name": "python3"
    },
    "language_info": {
      "codemirror_mode": {
        "name": "ipython",
        "version": 3
      },
      "file_extension": ".py",
      "mimetype": "text/x-python",
      "name": "python",
      "nbconvert_exporter": "python",
      "pygments_lexer": "ipython3",
      "version": "3.11.5"
    }
  },
  "nbformat": 4,
  "nbformat_minor": 0
}
